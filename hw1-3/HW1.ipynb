{
 "cells": [
  {
   "cell_type": "markdown",
   "metadata": {},
   "source": [
    "# HW1\n"
   ]
  },
  {
   "cell_type": "code",
   "execution_count": 45,
   "metadata": {},
   "outputs": [],
   "source": [
    "'''\n",
    "Problem 1:\n",
    "Write a function largerIndex(c) that takes as input a list c of numbers, and returns\n",
    "a new list k, such that k[i]=1 if c[i]>i, k[i] = 0 if c[i]=i, k[i] = -1 if c[i]<i.\n",
    "'''\n",
    "def f(h, c):\n",
    "    # a function that takes two int and compares\n",
    "    if c > h:\n",
    "        return 1\n",
    "    elif c == h:\n",
    "        return 0\n",
    "    else:\n",
    "        return -1\n",
    "    \n",
    "def largerIndex(c):\n",
    "    h = range(len(c))\n",
    "    # use the map function to compare element by element\n",
    "    return map(f, h, c)\n"
   ]
  },
  {
   "cell_type": "code",
   "execution_count": 46,
   "metadata": {},
   "outputs": [
    {
     "data": {
      "text/plain": [
       "<map at 0x10f62c7b8>"
      ]
     },
     "execution_count": 46,
     "metadata": {},
     "output_type": "execute_result"
    }
   ],
   "source": [
    "largerIndex([7,0])"
   ]
  },
  {
   "cell_type": "code",
   "execution_count": 3,
   "metadata": {
    "collapsed": true
   },
   "outputs": [],
   "source": [
    "'''\n",
    "Problem 2:\n",
    "Write a function squareUpTo(n) that takes as input a positive integer n, and returns\n",
    "a list of all the square numbers up to (and possibly including) n\n",
    "'''\n",
    "def squareUpTo(n):\n",
    "    if n <= 0:\n",
    "        return \"Input error: n must be a positive integer!\"\n",
    "    a = [x for x in range(n+1) for y in range(x+1) if y*y == x and x != 0]\n",
    "    return a\n",
    "    "
   ]
  },
  {
   "cell_type": "code",
   "execution_count": 5,
   "metadata": {},
   "outputs": [
    {
     "data": {
      "text/plain": [
       "'Input error: n must be a positive integer!'"
      ]
     },
     "execution_count": 5,
     "metadata": {},
     "output_type": "execute_result"
    }
   ],
   "source": [
    "squareUpTo(0)"
   ]
  },
  {
   "cell_type": "code",
   "execution_count": 35,
   "metadata": {},
   "outputs": [],
   "source": [
    "'''\n",
    "Problem 3:\n",
    "Write a function flip1in3() that uses only \"fair coins\" to generate a \"biased coin\"\n",
    "with success probability 1/3.\n",
    "'''\n",
    "import random\n",
    "\n",
    "def faircoin():\n",
    "    num1 = random.randint(0,1)\n",
    "    num2 = random.randint(0,1)\n",
    "    return num1, num2\n",
    "\n",
    "def flip1in3():\n",
    "    num1, num2 = faircoin()\n",
    "    while(num1 and num2):\n",
    "        num1, num2 = faircoin()\n",
    "        \n",
    "    if (not num1 and not num2):\n",
    "        return True\n",
    "    return False\n"
   ]
  },
  {
   "cell_type": "code",
   "execution_count": 36,
   "metadata": {},
   "outputs": [
    {
     "name": "stdout",
     "output_type": "stream",
     "text": [
      "1 1\n",
      "0 1\n"
     ]
    },
    {
     "data": {
      "text/plain": [
       "False"
      ]
     },
     "execution_count": 36,
     "metadata": {},
     "output_type": "execute_result"
    }
   ],
   "source": [
    "flip1in3()"
   ]
  },
  {
   "cell_type": "code",
   "execution_count": 6,
   "metadata": {
    "collapsed": true
   },
   "outputs": [],
   "source": [
    "'''\n",
    "Problem 4:\n",
    "Write a function duplicates(c) that takes as input a list c of integers, where 1 <=\n",
    "c[i] <= n (n is size of list). Some elements appear twice and others appear once. The\n",
    "function outputs all the elements as a list that appear twice in the list c. The elements\n",
    "in the output should preserve the original order.\n",
    "'''\n",
    "def duplicates(c):\n",
    "    n = len(c)\n",
    "    h = [0] * (n+1)\n",
    "    for i in range(n):\n",
    "        if c[i] < 1 or c[i] > n:\n",
    "            return \"Invalid input: Numbers must be in range 1 to n!\"\n",
    "        h[c[i]] = h[c[i]] + 1\n",
    "       \n",
    "    a = []\n",
    "    for i in range(n):\n",
    "        if h[c[i]] > 2:\n",
    "            return \"Invalid input: Elements cannot appear more than twice!\"\n",
    "        if h[c[i]] == 2:\n",
    "            a.append(c[i])\n",
    "            h[c[i]] = 1\n",
    "    return a\n"
   ]
  },
  {
   "cell_type": "code",
   "execution_count": 9,
   "metadata": {},
   "outputs": [
    {
     "data": {
      "text/plain": [
       "[2, 4, 3]"
      ]
     },
     "execution_count": 9,
     "metadata": {},
     "output_type": "execute_result"
    }
   ],
   "source": [
    "duplicates([2,4,4,3,2,3])"
   ]
  },
  {
   "cell_type": "code",
   "execution_count": 42,
   "metadata": {},
   "outputs": [],
   "source": [
    "'''\n",
    "Problem 5:\n",
    "Write a function longestpath(d) that finds the length of a longest path, (a : b) ->\n",
    "(b : c) -> \u0001 \u0001 \u0001 , in a dictionary d. It counts each pointer from a key to a value as one\n",
    "step. For example, the path (a : b) -> (b : c) has length 2. To avoid cycles, we do not\n",
    "allow any key to appear more than once in a path (as a key).\n",
    "'''\n",
    "\n",
    "def longestpath(d):\n",
    "    n = len(d)\n",
    "    Max = 1\n",
    "    for key in d:\n",
    "        temp = 0\n",
    "        k = key\n",
    "        new_d = {}\n",
    "        while (k in d and k not in new_d):\n",
    "            temp = temp + 1\n",
    "            new_d[k] = 1\n",
    "            k = d[k]\n",
    "            \n",
    "        Max = max(temp, Max)\n",
    "        \n",
    "    return Max\n"
   ]
  },
  {
   "cell_type": "code",
   "execution_count": 43,
   "metadata": {},
   "outputs": [
    {
     "data": {
      "text/plain": [
       "6"
      ]
     },
     "execution_count": 43,
     "metadata": {},
     "output_type": "execute_result"
    }
   ],
   "source": [
    "d = {'a':'b', 'b':'c', 'c':'e', 'e':'f', 'f':'z', 'z':'a', 'a':'a'}\n",
    "d1 = {'a':'b', 'b':'a'}\n",
    "new_d = {}\n",
    "k = 'a'\n",
    "\n",
    "\n",
    "\n",
    "longestpath(d)"
   ]
  },
  {
   "cell_type": "code",
   "execution_count": null,
   "metadata": {},
   "outputs": [],
   "source": []
  },
  {
   "cell_type": "code",
   "execution_count": null,
   "metadata": {},
   "outputs": [],
   "source": []
  },
  {
   "cell_type": "code",
   "execution_count": null,
   "metadata": {},
   "outputs": [],
   "source": []
  }
 ],
 "metadata": {
  "kernelspec": {
   "display_name": "Python 3",
   "language": "python",
   "name": "python3"
  },
  "language_info": {
   "codemirror_mode": {
    "name": "ipython",
    "version": 3
   },
   "file_extension": ".py",
   "mimetype": "text/x-python",
   "name": "python",
   "nbconvert_exporter": "python",
   "pygments_lexer": "ipython3",
   "version": "3.7.0"
  }
 },
 "nbformat": 4,
 "nbformat_minor": 2
}
